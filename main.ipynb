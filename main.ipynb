{
 "cells": [
  {
   "cell_type": "code",
   "execution_count": 1,
   "metadata": {},
   "outputs": [
    {
     "name": "stderr",
     "output_type": "stream",
     "text": [
      "c:\\Users\\jurri\\AppData\\Local\\Programs\\Python\\Python39\\lib\\site-packages\\torchvision\\datapoints\\__init__.py:12: UserWarning: The torchvision.datapoints and torchvision.transforms.v2 namespaces are still Beta. While we do not expect major breaking changes, some APIs may still change according to user feedback. Please submit any feedback you may have in this issue: https://github.com/pytorch/vision/issues/6753, and you can also check out https://github.com/pytorch/vision/issues/7319 to learn more about the APIs that we suspect might involve future changes. You can silence this warning by calling torchvision.disable_beta_transforms_warning().\n",
      "  warnings.warn(_BETA_TRANSFORMS_WARNING)\n",
      "c:\\Users\\jurri\\AppData\\Local\\Programs\\Python\\Python39\\lib\\site-packages\\torchvision\\transforms\\v2\\__init__.py:54: UserWarning: The torchvision.datapoints and torchvision.transforms.v2 namespaces are still Beta. While we do not expect major breaking changes, some APIs may still change according to user feedback. Please submit any feedback you may have in this issue: https://github.com/pytorch/vision/issues/6753, and you can also check out https://github.com/pytorch/vision/issues/7319 to learn more about the APIs that we suspect might involve future changes. You can silence this warning by calling torchvision.disable_beta_transforms_warning().\n",
      "  warnings.warn(_BETA_TRANSFORMS_WARNING)\n"
     ]
    }
   ],
   "source": [
    "import os\n",
    "\n",
    "import torch\n",
    "from torch.utils.data import SubsetRandomSampler\n",
    "\n",
    "from src.dataset import ImageDataset\n",
    "from src.utils import get_indices\n",
    "from src.model import MWCNN\n",
    "from src.layers import DWT, IWT, FFTloss\n",
    "from src.training import Trainer\n",
    "device = torch.device('cuda:0' if torch.cuda.is_available() else 'cpu')\n",
    "\n",
    "# Dataset part used for testing\n",
    "TEST_SPLIT = 0.2\n",
    "# Batch size for training. Limited by GPU memory\n",
    "BATCH_SIZE = 6\n",
    "# Dataset folder used\n",
    "DATASET_USED = 'e9_5_GLM87a_cycle1_8_8'\n",
    "# Full Dataset path\n",
    "DATASET_PATH = os.path.join('data\\mip2edof_2samples', DATASET_USED)\n",
    "# Training Epochs\n",
    "EPOCHS = 20"
   ]
  },
  {
   "cell_type": "markdown",
   "metadata": {},
   "source": [
    "## 1 Initiate train and test loader"
   ]
  },
  {
   "cell_type": "code",
   "execution_count": 2,
   "metadata": {},
   "outputs": [
    {
     "name": "stderr",
     "output_type": "stream",
     "text": [
      "c:\\Users\\jurri\\AppData\\Local\\Programs\\Python\\Python39\\lib\\site-packages\\torchvision\\transforms\\v2\\_deprecated.py:41: UserWarning: The transform `ToTensor()` is deprecated and will be removed in a future release. Instead, please use `transforms.Compose([transforms.ToImageTensor(), transforms.ConvertImageDtype()])`.\n",
      "  warnings.warn(\n"
     ]
    }
   ],
   "source": [
    "image_dataset = ImageDataset(DATASET_PATH, DATASET_USED)\n",
    "\n",
    "train_indices, test_indices = get_indices(len(image_dataset), image_dataset.root_dir, TEST_SPLIT)\n",
    "train_sampler, test_sampler = SubsetRandomSampler(train_indices), SubsetRandomSampler(test_indices)\n",
    "\n",
    "trainloader = torch.utils.data.DataLoader(image_dataset, BATCH_SIZE, sampler=train_sampler)\n",
    "testloader = torch.utils.data.DataLoader(image_dataset, 1, sampler=test_sampler)"
   ]
  },
  {
   "cell_type": "markdown",
   "metadata": {},
   "source": [
    "## 1.1 Show example of images"
   ]
  },
  {
   "cell_type": "code",
   "execution_count": 3,
   "metadata": {},
   "outputs": [],
   "source": [
    "# import matplotlib.pyplot as plt\n",
    "\n",
    "# fig, ax = plt.subplots(nrows=6, ncols=2, figsize=(20, 60))\n",
    "# for data in trainloader:\n",
    "#     input_image = data['input_image'].squeeze().permute(1, 2, 0)\n",
    "#     output_image = data['output_image'].squeeze().permute(1, 2, 0)\n",
    "#     for i in range(input_image.shape[2]):\n",
    "#         ax[i,0].imshow(input_image[:,:,i], cmap='gray', vmin=0, vmax=16383, aspect='equal')\n",
    "#         ax[i,1].imshow(output_image[:,:,i], cmap='gray', vmin=0, vmax=16383, aspect='equal')\n",
    "#     break\n",
    "\n",
    "# plt.tight_layout()"
   ]
  },
  {
   "cell_type": "markdown",
   "metadata": {},
   "source": [
    "## 2 Initiate model"
   ]
  },
  {
   "cell_type": "code",
   "execution_count": 4,
   "metadata": {},
   "outputs": [],
   "source": [
    "dwt = DWT()\n",
    "iwt = IWT()\n",
    "\n",
    "MWCNN_model = MWCNN(2, dwt, iwt).to(device)"
   ]
  },
  {
   "cell_type": "markdown",
   "metadata": {},
   "source": [
    "## 3. Model Training and Testing"
   ]
  },
  {
   "cell_type": "code",
   "execution_count": 5,
   "metadata": {},
   "outputs": [
    {
     "name": "stdout",
     "output_type": "stream",
     "text": [
      "Starting Training Process\n",
      "Epoch: 001,  Loss:68333928.4444444,  Epoch: 002,  Loss:65867077.0370370,  Epoch: 003,  Loss:46292045.1851852,  Epoch: 004,  Loss:74616954.4444444,  Epoch: 005,  Loss:62482273.9259259,  Epoch 00006: reducing learning rate of group 0 to 8.5000e-04.\n",
      "Epoch: 006,  Loss:61707977.3333333,  Epoch: 007,  Loss:74710519.4074074,  "
     ]
    },
    {
     "ename": "KeyboardInterrupt",
     "evalue": "",
     "output_type": "error",
     "traceback": [
      "\u001b[1;31m---------------------------------------------------------------------------\u001b[0m",
      "\u001b[1;31mKeyboardInterrupt\u001b[0m                         Traceback (most recent call last)",
      "\u001b[1;32mc:\\Users\\jurri\\Documents\\University\\Life sciences and engineering\\Deep learning in biomedicine\\project\\deep-biomedicine-project\\main.ipynb Cell 9\u001b[0m line \u001b[0;36m5\n\u001b[0;32m      <a href='vscode-notebook-cell:/c%3A/Users/jurri/Documents/University/Life%20sciences%20and%20engineering/Deep%20learning%20in%20biomedicine/project/deep-biomedicine-project/main.ipynb#X11sZmlsZQ%3D%3D?line=1'>2</a>\u001b[0m criterion \u001b[39m=\u001b[39m FFTloss()\n\u001b[0;32m      <a href='vscode-notebook-cell:/c%3A/Users/jurri/Documents/University/Life%20sciences%20and%20engineering/Deep%20learning%20in%20biomedicine/project/deep-biomedicine-project/main.ipynb#X11sZmlsZQ%3D%3D?line=2'>3</a>\u001b[0m MWCNN_trainer \u001b[39m=\u001b[39m Trainer(MWCNN_model, criterion, device)\n\u001b[1;32m----> <a href='vscode-notebook-cell:/c%3A/Users/jurri/Documents/University/Life%20sciences%20and%20engineering/Deep%20learning%20in%20biomedicine/project/deep-biomedicine-project/main.ipynb#X11sZmlsZQ%3D%3D?line=4'>5</a>\u001b[0m loss_record \u001b[39m=\u001b[39m MWCNN_trainer\u001b[39m.\u001b[39;49mtrain(EPOCHS,trainloader,mini_batch\u001b[39m=\u001b[39;49m\u001b[39m100\u001b[39;49m)\n\u001b[0;32m      <a href='vscode-notebook-cell:/c%3A/Users/jurri/Documents/University/Life%20sciences%20and%20engineering/Deep%20learning%20in%20biomedicine/project/deep-biomedicine-project/main.ipynb#X11sZmlsZQ%3D%3D?line=6'>7</a>\u001b[0m \u001b[39mprint\u001b[39m(\u001b[39mf\u001b[39m\u001b[39m'\u001b[39m\u001b[39mTraining finished!\u001b[39m\u001b[39m'\u001b[39m)\n",
      "File \u001b[1;32mc:\\Users\\jurri\\Documents\\University\\Life sciences and engineering\\Deep learning in biomedicine\\project\\deep-biomedicine-project\\src\\training.py:55\u001b[0m, in \u001b[0;36mTrainer.train\u001b[1;34m(self, epochs, trainloader, mini_batch, learning_rate)\u001b[0m\n\u001b[0;32m     51\u001b[0m \u001b[39m# Epoch Loop\u001b[39;00m\n\u001b[0;32m     52\u001b[0m \u001b[39mfor\u001b[39;00m epoch \u001b[39min\u001b[39;00m \u001b[39mrange\u001b[39m(epochs):\n\u001b[0;32m     53\u001b[0m \n\u001b[0;32m     54\u001b[0m     \u001b[39m# Training a single epoch\u001b[39;00m\n\u001b[1;32m---> 55\u001b[0m     epoch_loss \u001b[39m=\u001b[39m \u001b[39mself\u001b[39;49m\u001b[39m.\u001b[39;49m_train_epoch(trainloader, mini_batch)\n\u001b[0;32m     57\u001b[0m     \u001b[39m# Collecting all epoch loss values for future visualization.\u001b[39;00m\n\u001b[0;32m     58\u001b[0m     loss_record\u001b[39m.\u001b[39mappend(epoch_loss)\n",
      "File \u001b[1;32mc:\\Users\\jurri\\Documents\\University\\Life sciences and engineering\\Deep learning in biomedicine\\project\\deep-biomedicine-project\\src\\training.py:101\u001b[0m, in \u001b[0;36mTrainer._train_epoch\u001b[1;34m(self, trainloader, mini_batch)\u001b[0m\n\u001b[0;32m     99\u001b[0m loss_value \u001b[39m=\u001b[39m \u001b[39mself\u001b[39m\u001b[39m.\u001b[39mcriterion(output, mask)\n\u001b[0;32m    100\u001b[0m \u001b[39m# ToDo 6: Computing the gradients.\u001b[39;00m\n\u001b[1;32m--> 101\u001b[0m loss_value\u001b[39m.\u001b[39;49mbackward()\n\u001b[0;32m    103\u001b[0m \u001b[39m# Optimizing the network parameters.\u001b[39;00m\n\u001b[0;32m    104\u001b[0m \u001b[39mself\u001b[39m\u001b[39m.\u001b[39moptimizer\u001b[39m.\u001b[39mstep()\n",
      "File \u001b[1;32mc:\\Users\\jurri\\AppData\\Local\\Programs\\Python\\Python39\\lib\\site-packages\\torch\\_tensor.py:487\u001b[0m, in \u001b[0;36mTensor.backward\u001b[1;34m(self, gradient, retain_graph, create_graph, inputs)\u001b[0m\n\u001b[0;32m    477\u001b[0m \u001b[39mif\u001b[39;00m has_torch_function_unary(\u001b[39mself\u001b[39m):\n\u001b[0;32m    478\u001b[0m     \u001b[39mreturn\u001b[39;00m handle_torch_function(\n\u001b[0;32m    479\u001b[0m         Tensor\u001b[39m.\u001b[39mbackward,\n\u001b[0;32m    480\u001b[0m         (\u001b[39mself\u001b[39m,),\n\u001b[1;32m   (...)\u001b[0m\n\u001b[0;32m    485\u001b[0m         inputs\u001b[39m=\u001b[39minputs,\n\u001b[0;32m    486\u001b[0m     )\n\u001b[1;32m--> 487\u001b[0m torch\u001b[39m.\u001b[39;49mautograd\u001b[39m.\u001b[39;49mbackward(\n\u001b[0;32m    488\u001b[0m     \u001b[39mself\u001b[39;49m, gradient, retain_graph, create_graph, inputs\u001b[39m=\u001b[39;49minputs\n\u001b[0;32m    489\u001b[0m )\n",
      "File \u001b[1;32mc:\\Users\\jurri\\AppData\\Local\\Programs\\Python\\Python39\\lib\\site-packages\\torch\\autograd\\__init__.py:200\u001b[0m, in \u001b[0;36mbackward\u001b[1;34m(tensors, grad_tensors, retain_graph, create_graph, grad_variables, inputs)\u001b[0m\n\u001b[0;32m    195\u001b[0m     retain_graph \u001b[39m=\u001b[39m create_graph\n\u001b[0;32m    197\u001b[0m \u001b[39m# The reason we repeat same the comment below is that\u001b[39;00m\n\u001b[0;32m    198\u001b[0m \u001b[39m# some Python versions print out the first line of a multi-line function\u001b[39;00m\n\u001b[0;32m    199\u001b[0m \u001b[39m# calls in the traceback and some print out the last line\u001b[39;00m\n\u001b[1;32m--> 200\u001b[0m Variable\u001b[39m.\u001b[39;49m_execution_engine\u001b[39m.\u001b[39;49mrun_backward(  \u001b[39m# Calls into the C++ engine to run the backward pass\u001b[39;49;00m\n\u001b[0;32m    201\u001b[0m     tensors, grad_tensors_, retain_graph, create_graph, inputs,\n\u001b[0;32m    202\u001b[0m     allow_unreachable\u001b[39m=\u001b[39;49m\u001b[39mTrue\u001b[39;49;00m, accumulate_grad\u001b[39m=\u001b[39;49m\u001b[39mTrue\u001b[39;49;00m)\n",
      "\u001b[1;31mKeyboardInterrupt\u001b[0m: "
     ]
    }
   ],
   "source": [
    "# Training\n",
    "criterion = FFTloss()\n",
    "MWCNN_trainer = Trainer(MWCNN_model, criterion, device)\n",
    "\n",
    "loss_record = MWCNN_trainer.train(EPOCHS,trainloader,mini_batch=100)\n",
    "\n",
    "print(f'Training finished!')"
   ]
  },
  {
   "cell_type": "code",
   "execution_count": null,
   "metadata": {},
   "outputs": [],
   "source": [
    "# save the model\n",
    "torch.save(MWCNN_model, 'model.pth')"
   ]
  },
  {
   "cell_type": "code",
   "execution_count": 6,
   "metadata": {},
   "outputs": [
    {
     "name": "stdout",
     "output_type": "stream",
     "text": [
      "Score 27.188481788906746\n"
     ]
    }
   ],
   "source": [
    "# Testing process on test data.\n",
    "unet_score = MWCNN_trainer.test(testloader)\n",
    "\n",
    "print(f'Score {unet_score}')"
   ]
  },
  {
   "cell_type": "markdown",
   "metadata": {},
   "source": [
    "Load model"
   ]
  },
  {
   "cell_type": "code",
   "execution_count": 7,
   "metadata": {},
   "outputs": [
    {
     "ename": "AttributeError",
     "evalue": "'numpy.ndarray' object has no attribute 'cpu'",
     "output_type": "error",
     "traceback": [
      "\u001b[1;31m---------------------------------------------------------------------------\u001b[0m",
      "\u001b[1;31mAttributeError\u001b[0m                            Traceback (most recent call last)",
      "\u001b[1;32mc:\\Users\\jurri\\Documents\\University\\Life sciences and engineering\\Deep learning in biomedicine\\project\\deep-biomedicine-project\\main.ipynb Cell 13\u001b[0m line \u001b[0;36m3\n\u001b[0;32m      <a href='vscode-notebook-cell:/c%3A/Users/jurri/Documents/University/Life%20sciences%20and%20engineering/Deep%20learning%20in%20biomedicine/project/deep-biomedicine-project/main.ipynb#X14sZmlsZQ%3D%3D?line=0'>1</a>\u001b[0m image_index \u001b[39m=\u001b[39m test_indices[\u001b[39m0\u001b[39m]\n\u001b[0;32m      <a href='vscode-notebook-cell:/c%3A/Users/jurri/Documents/University/Life%20sciences%20and%20engineering/Deep%20learning%20in%20biomedicine/project/deep-biomedicine-project/main.ipynb#X14sZmlsZQ%3D%3D?line=1'>2</a>\u001b[0m sample \u001b[39m=\u001b[39m image_dataset[image_index]\n\u001b[1;32m----> <a href='vscode-notebook-cell:/c%3A/Users/jurri/Documents/University/Life%20sciences%20and%20engineering/Deep%20learning%20in%20biomedicine/project/deep-biomedicine-project/main.ipynb#X14sZmlsZQ%3D%3D?line=2'>3</a>\u001b[0m image, output, d_score \u001b[39m=\u001b[39m MWCNN_trainer\u001b[39m.\u001b[39;49mpredict(sample)\n",
      "File \u001b[1;32mc:\\Users\\jurri\\Documents\\University\\Life sciences and engineering\\Deep learning in biomedicine\\project\\deep-biomedicine-project\\src\\training.py:176\u001b[0m, in \u001b[0;36mTrainer.predict\u001b[1;34m(self, data)\u001b[0m\n\u001b[0;32m    173\u001b[0m image_tensor \u001b[39m=\u001b[39m torch\u001b[39m.\u001b[39mTensor(data[\u001b[39m'\u001b[39m\u001b[39minput_image\u001b[39m\u001b[39m'\u001b[39m])\n\u001b[0;32m    174\u001b[0m image_tensor \u001b[39m=\u001b[39m image_tensor\u001b[39m.\u001b[39mview((\u001b[39m-\u001b[39m\u001b[39m1\u001b[39m, \u001b[39m1\u001b[39m, \u001b[39m512\u001b[39m, \u001b[39m512\u001b[39m))\u001b[39m.\u001b[39mto(\u001b[39mself\u001b[39m\u001b[39m.\u001b[39mdevice)\n\u001b[1;32m--> 176\u001b[0m pred \u001b[39m=\u001b[39m \u001b[39mself\u001b[39;49m\u001b[39m.\u001b[39;49mmodel(image_tensor)\u001b[39m.\u001b[39;49mdetach()\u001b[39m.\u001b[39;49mnumpy()\u001b[39m.\u001b[39;49mcpu()\n\u001b[0;32m    178\u001b[0m score \u001b[39m=\u001b[39m \u001b[39mself\u001b[39m\u001b[39m.\u001b[39m_psnr(output_image, pred)\n\u001b[0;32m    180\u001b[0m \u001b[39mreturn\u001b[39;00m input_image, pred, score\n",
      "\u001b[1;31mAttributeError\u001b[0m: 'numpy.ndarray' object has no attribute 'cpu'"
     ]
    }
   ],
   "source": [
    "image_index = test_indices[0]\n",
    "sample = image_dataset[image_index]\n",
    "image, output, d_score = MWCNN_trainer.predict(sample)"
   ]
  }
 ],
 "metadata": {
  "kernelspec": {
   "display_name": "Python 3",
   "language": "python",
   "name": "python3"
  },
  "language_info": {
   "codemirror_mode": {
    "name": "ipython",
    "version": 3
   },
   "file_extension": ".py",
   "mimetype": "text/x-python",
   "name": "python",
   "nbconvert_exporter": "python",
   "pygments_lexer": "ipython3",
   "version": "3.9.0"
  }
 },
 "nbformat": 4,
 "nbformat_minor": 2
}
